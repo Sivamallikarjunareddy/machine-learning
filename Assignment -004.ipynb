{
 "cells": [
  {
   "cell_type": "markdown",
   "metadata": {},
   "source": [
    "# 1.1Write a Python Program(with class concepts) to find the area of the triangle using the below, formula.area = (s*(s-a)*(s-b)*(s-c)) ** 0.5\n",
    "Function to take the length of the sides of triangle from user should be defined in the parent\n",
    "class and function to calculate the area should be defined in subclass."
   ]
  },
  {
   "cell_type": "code",
   "execution_count": 1,
   "metadata": {},
   "outputs": [
    {
     "name": "stdout",
     "output_type": "stream",
     "text": [
      "Please Enter Sides of triangle separated by comma: 3,4,5\n",
      "Area of the Triangle with sides 3,4,5\t=6.0\n"
     ]
    }
   ],
   "source": [
    "class Area_triangle:\n",
    "    def __init__(self,side1,side2,side3):\n",
    "        self.side1=side1\n",
    "        self.side2=side2\n",
    "        self.side3=side3\n",
    "    \n",
    "class Calculate(Area_triangle):\n",
    "    \n",
    "    def __init__(self,*args):\n",
    "        super(Calculate,self).__init__(*args)\n",
    "                \n",
    "    def calculateArea(self,*args):\n",
    "        side1=self.side1\n",
    "        side2=self.side2\n",
    "        side3=self.side3\n",
    "        sp=(side1+side2+side3)/2\n",
    "        area = (sp*(sp-side1)*(sp-side2)*(sp-side3)) ** 0.5\n",
    "        return area\n",
    "\n",
    "\n",
    "l=input(\"Please Enter Sides of triangle separated by comma: \").split(\",\")\n",
    "calobj=Calculate(int(l[0]),int(l[1]),int(l[2]))\n",
    "area=calobj.calculateArea()\n",
    "print(\"Area of the Triangle with sides {},{},{}\\t={}\".format(l[0],l[1],l[2],area))"
   ]
  },
  {
   "cell_type": "markdown",
   "metadata": {},
   "source": [
    "# 1.2Write a function filter_long_words() that takes a list of words and an integer n and returns the list of words that are longer than n."
   ]
  },
  {
   "cell_type": "code",
   "execution_count": 2,
   "metadata": {},
   "outputs": [
    {
     "data": {
      "text/plain": [
       "['malli', 'arjun', 'reddy']"
      ]
     },
     "execution_count": 2,
     "metadata": {},
     "output_type": "execute_result"
    }
   ],
   "source": [
    "# wrote the function\n",
    "\n",
    "def filter_long_words(x):\n",
    "    int_n=4\n",
    "    list1=[]\n",
    "    for i in x:\n",
    "        if len(i)>int_n:\n",
    "            list1.append(i)\n",
    "    return list1   \n",
    "# Execute the function\n",
    "\n",
    "filter_long_words([\"siva\",\"malli\",\"arjun\",\"reddy\",\"care\",\"love\"])\n",
    "        \n",
    "    "
   ]
  },
  {
   "cell_type": "markdown",
   "metadata": {},
   "source": [
    "# 2.1 Write a Python program using function concept that maps list of words into a list of integers representing the lengths of the corresponding words."
   ]
  },
  {
   "cell_type": "code",
   "execution_count": 3,
   "metadata": {},
   "outputs": [
    {
     "data": {
      "text/plain": [
       "[4, 5, 5, 5, 4, 4]"
      ]
     },
     "execution_count": 3,
     "metadata": {},
     "output_type": "execute_result"
    }
   ],
   "source": [
    "def my_func(z):\n",
    "    return len(z)\n",
    "list(map(my_func,[\"siva\",\"malli\",\"arjun\",\"reddy\",\"care\",\"love\"]))"
   ]
  },
  {
   "cell_type": "markdown",
   "metadata": {},
   "source": [
    "# Write a Python function which takes a character (i.e. a string of length 1) and returns True if it is a vowel, False otherwise."
   ]
  },
  {
   "cell_type": "code",
   "execution_count": 4,
   "metadata": {},
   "outputs": [
    {
     "data": {
      "text/plain": [
       "[True, True, False, False, True, False, True, False, False, True]"
      ]
     },
     "execution_count": 4,
     "metadata": {},
     "output_type": "execute_result"
    }
   ],
   "source": [
    "def my_function(k):\n",
    "    if k==\"a\" or k==\"e\" or k==\"i\" or k==\"o\" or k==\"u\":\n",
    "        return True\n",
    "    else:\n",
    "        return  False\n",
    "list(map(my_function,[\"a\",\"e\",\"s\",\"y\",\"i\",\"t\",\"o\",\"f\",\"l\",\"u\"]))"
   ]
  }
 ],
 "metadata": {
  "kernelspec": {
   "display_name": "Python 3",
   "language": "python",
   "name": "python3"
  },
  "language_info": {
   "codemirror_mode": {
    "name": "ipython",
    "version": 3
   },
   "file_extension": ".py",
   "mimetype": "text/x-python",
   "name": "python",
   "nbconvert_exporter": "python",
   "pygments_lexer": "ipython3",
   "version": "3.7.6"
  }
 },
 "nbformat": 4,
 "nbformat_minor": 4
}
